{
 "cells": [
  {
   "cell_type": "code",
   "execution_count": 232,
   "id": "ef1d36eb",
   "metadata": {},
   "outputs": [],
   "source": [
    "import cv2\n",
    "import numpy as np\n",
    "from matplotlib import pyplot as plt"
   ]
  },
  {
   "cell_type": "code",
   "execution_count": 233,
   "id": "f3c2af32",
   "metadata": {},
   "outputs": [],
   "source": [
    "# 读取图像\n",
    "image = cv2.imread('./resource/2.jpg')"
   ]
  },
  {
   "cell_type": "markdown",
   "id": "c9e5e75a",
   "metadata": {},
   "source": [
    "## jupyter notebook一些使用帮助\n",
    "jupyter notebook可以把代码一行一行运行，比如运行了上述代码块后，可以"
   ]
  },
  {
   "cell_type": "code",
   "execution_count": 234,
   "id": "5718d72b",
   "metadata": {},
   "outputs": [
    {
     "data": {
      "text/plain": [
       "(3456, 5184, 3)"
      ]
     },
     "execution_count": 234,
     "metadata": {},
     "output_type": "execute_result"
    }
   ],
   "source": [
    "image.shape"
   ]
  },
  {
   "cell_type": "markdown",
   "id": "025c88d0",
   "metadata": {},
   "source": [
    "就可以像笔记一样方便的查看代码值\n",
    "\n",
    "不过，也要根据执行先后顺序判断，后面执行的代码会修改前面变量的值"
   ]
  },
  {
   "cell_type": "markdown",
   "id": "576be16e",
   "metadata": {},
   "source": [
    "当你在浏览器中写代码时，遇到不熟悉的函数，可以先用鼠标点击函数，在按`shift`+`tab`查看该函数的文档帮助"
   ]
  },
  {
   "cell_type": "code",
   "execution_count": 235,
   "id": "ea2c1147",
   "metadata": {},
   "outputs": [
    {
     "data": {
      "text/plain": [
       "(3456, 5184, 3)"
      ]
     },
     "execution_count": 235,
     "metadata": {},
     "output_type": "execute_result"
    }
   ],
   "source": [
    "# 获取图像尺寸\n",
    "height, width, _ = image.shape\n",
    "image.shape"
   ]
  },
  {
   "cell_type": "code",
   "execution_count": 236,
   "id": "9e8bb4ba",
   "metadata": {},
   "outputs": [],
   "source": [
    "# 将图像转换为灰度图像\n",
    "gray = cv2.cvtColor(image, cv2.COLOR_BGR2GRAY)"
   ]
  },
  {
   "cell_type": "code",
   "execution_count": 237,
   "id": "e890c4ec",
   "metadata": {},
   "outputs": [],
   "source": [
    "# 设定阈值，进行二值化\n",
    "_, thresh = cv2.threshold(gray, 220, 255, cv2.THRESH_BINARY)"
   ]
  },
  {
   "cell_type": "code",
   "execution_count": 238,
   "id": "dbbeb8f3",
   "metadata": {},
   "outputs": [],
   "source": [
    "# 进行噪声消除\n",
    "kernel = np.ones((3, 3), np.uint8)\n",
    "opening = cv2.morphologyEx(thresh, cv2.MORPH_OPEN, kernel)"
   ]
  },
  {
   "cell_type": "code",
   "execution_count": 239,
   "id": "cba7f974",
   "metadata": {},
   "outputs": [],
   "source": [
    "# 寻找连通区域\n",
    "retval, labels, stats, centroids = cv2.connectedComponentsWithStats(opening)"
   ]
  },
  {
   "cell_type": "code",
   "execution_count": 240,
   "id": "f166514c",
   "metadata": {},
   "outputs": [
    {
     "data": {
      "text/plain": [
       "<matplotlib.image.AxesImage at 0x1d464c68410>"
      ]
     },
     "execution_count": 240,
     "metadata": {},
     "output_type": "execute_result"
    },
    {
     "data": {
      "image/png": "[encoded data removed]",
      "text/plain": [
       "<Figure size 640x480 with 1 Axes>"
      ]
     },
     "metadata": {},
     "output_type": "display_data"
    }
   ],
   "source": [
    "# 显示包含标记的图像\n",
    "# 创建一个彩色版本的标签图像\n",
    "label_hue = np.uint8(179 * labels / np.max(labels))\n",
    "blank_ch = 255 * np.ones_like(label_hue)\n",
    "labeled_image = cv2.merge([label_hue, blank_ch, blank_ch])\n",
    "# 将背景部分标记为黑色\n",
    "labeled_image[label_hue == 0] = 0\n",
    "\n",
    "# 显示带有连通组件的彩色图像\n",
    "plt.imshow(labeled_image[:,:,::-1])\n"
   ]
  },
  {
   "cell_type": "code",
   "execution_count": 241,
   "id": "d8c1a1ba",
   "metadata": {},
   "outputs": [],
   "source": [
    "# 加载星星图像\n",
    "star = cv2.imread('./resource/lens_flare01.png', flags=cv2.IMREAD_UNCHANGED)"
   ]
  },
  {
   "cell_type": "code",
   "execution_count": 242,
   "id": "8e2d347c",
   "metadata": {},
   "outputs": [],
   "source": [
    "# 调整星星的大小\n",
    "desired_star_size = (64, 64)\n",
    "resized_star = cv2.resize(star, desired_star_size[:2], interpolation=cv2.INTER_AREA)"
   ]
  },
  {
   "cell_type": "code",
   "execution_count": 243,
   "id": "9ee91644",
   "metadata": {},
   "outputs": [],
   "source": [
    "# 过滤并绘制发光点\n",
    "for i, stat in enumerate(stats):\n",
    "    # 过滤条件可以根据需求调整\n",
    "    if stat[cv2.CC_STAT_AREA] > 32 and stat[cv2.CC_STAT_AREA] < 800:\n",
    "        # 在发光点处绘制星星\n",
    "        x = int(centroids[i][0])\n",
    "        y = int(centroids[i][1])\n",
    "\n",
    "        # 计算星星的位置\n",
    "        x_start = max(0, x - desired_star_size[1] // 2)\n",
    "        x_end = min(width, x + desired_star_size[1] // 2)\n",
    "        y_start = max(0, y - desired_star_size[0] // 2)\n",
    "        y_end = min(height, y + desired_star_size[0] // 2)\n",
    "\n",
    "        # 处理边界情况\n",
    "        star_width = x_end - x_start\n",
    "        star_height = y_end - y_start\n",
    "\n",
    "        if star_width > 0 and star_height > 0:\n",
    "            # 将星星图像和原图像叠加在一起\n",
    "#             overlay = cv2.bitwise_and(image[y_start:y_end, x_start:x_end],\n",
    "#                                       image[y_start:y_end, x_start:x_end],\n",
    "#                                       mask=resized_star[:star_height, :star_width, 3])\n",
    "            overlay = resized_star[:star_height, :star_width, :3]\n",
    "            background = cv2.bitwise_and(image[y_start:y_end, x_start:x_end],\n",
    "                                         image[y_start:y_end, x_start:x_end],\n",
    "                                         mask=cv2.bitwise_not(resized_star[:star_height, :star_width, 3]))\n",
    "            result = cv2.add(background, overlay)\n",
    "            \n",
    "\n",
    "            # 将星星特效添加到原图上\n",
    "            image[y_start:y_end, x_start:x_end] = result\n",
    "\n"
   ]
  },
  {
   "cell_type": "code",
   "execution_count": 245,
   "id": "e717c965",
   "metadata": {},
   "outputs": [],
   "source": [
    "# 显示识别结果\n",
    "# 创建窗口并调整大小\n",
    "# plt.imshow(image[:,:,::-1])\n",
    "\n",
    "cv2.imshow(\"\", image[::4,::4])\n",
    "cv2.waitKey(0)\n",
    "cv2.destroyAllWindows()\n",
    "\n"
   ]
  },
  {
   "cell_type": "code",
   "execution_count": null,
   "id": "4b91cc66",
   "metadata": {},
   "outputs": [],
   "source": []
  }
 ],
 "metadata": {
  "kernelspec": {
   "display_name": "Python 3 (ipykernel)",
   "language": "python",
   "name": "python3"
  },
  "language_info": {
   "codemirror_mode": {
    "name": "ipython",
    "version": 3
   },
   "file_extension": ".py",
   "mimetype": "text/x-python",
   "name": "python",
   "nbconvert_exporter": "python",
   "pygments_lexer": "ipython3",
   "version": "3.11.5"
  }
 },
 "nbformat": 4,
 "nbformat_minor": 5
}
